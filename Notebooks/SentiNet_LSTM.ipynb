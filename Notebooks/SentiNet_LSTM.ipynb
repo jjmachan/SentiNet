{
  "nbformat": 4,
  "nbformat_minor": 0,
  "metadata": {
    "colab": {
      "name": "SentiNet-LSTM.ipynb",
      "version": "0.3.2",
      "provenance": []
    },
    "kernelspec": {
      "name": "python3",
      "display_name": "Python 3"
    },
    "accelerator": "GPU"
  },
  "cells": [
    {
      "metadata": {
        "id": "ygNK8EuLbG9-",
        "colab_type": "text"
      },
      "cell_type": "markdown",
      "source": [
        "#Preparing Data\n"
      ]
    },
    {
      "metadata": {
        "id": "dxx1hE9mse_B",
        "colab_type": "code",
        "colab": {}
      },
      "cell_type": "code",
      "source": [
        "import torch\n",
        "from torchtext import data\n",
        "\n",
        "TEXT = data.Field(tokenize='spacy')\n",
        "LABEL = data.LabelField(dtype=torch.float)"
      ],
      "execution_count": 0,
      "outputs": []
    },
    {
      "metadata": {
        "id": "P0j6GHNKsyma",
        "colab_type": "code",
        "outputId": "008b368e-ac5f-41c8-c91a-98f01d0f7de4",
        "colab": {
          "base_uri": "https://localhost:8080/",
          "height": 50
        }
      },
      "cell_type": "code",
      "source": [
        "from torchtext import datasets\n",
        "\n",
        "train_data, test_data = datasets.IMDB.splits(TEXT,LABEL)"
      ],
      "execution_count": 2,
      "outputs": [
        {
          "output_type": "stream",
          "text": [
            "\raclImdb_v1.tar.gz:   0%|          | 0.00/84.1M [00:00<?, ?B/s]"
          ],
          "name": "stderr"
        },
        {
          "output_type": "stream",
          "text": [
            "downloading aclImdb_v1.tar.gz\n"
          ],
          "name": "stdout"
        },
        {
          "output_type": "stream",
          "text": [
            "aclImdb_v1.tar.gz: 100%|██████████| 84.1M/84.1M [00:03<00:00, 26.9MB/s]\n"
          ],
          "name": "stderr"
        }
      ]
    },
    {
      "metadata": {
        "id": "ipIH_XRxuXf6",
        "colab_type": "code",
        "outputId": "22ac6e45-89de-42b4-ad81-d49476c679a8",
        "colab": {
          "base_uri": "https://localhost:8080/",
          "height": 34
        }
      },
      "cell_type": "code",
      "source": [
        "print(vars(train_data.examples[1])['label'])"
      ],
      "execution_count": 3,
      "outputs": [
        {
          "output_type": "stream",
          "text": [
            "pos\n"
          ],
          "name": "stdout"
        }
      ]
    },
    {
      "metadata": {
        "id": "BAJLOcjbuwEJ",
        "colab_type": "code",
        "colab": {}
      },
      "cell_type": "code",
      "source": [
        "train_data, val_data = train_data.split()"
      ],
      "execution_count": 0,
      "outputs": []
    },
    {
      "metadata": {
        "id": "zKsX-K_1wYBJ",
        "colab_type": "code",
        "outputId": "c238e0cb-3d76-4884-d7a4-db03d2be98f6",
        "colab": {
          "base_uri": "https://localhost:8080/",
          "height": 34
        }
      },
      "cell_type": "code",
      "source": [
        "len(val_data)"
      ],
      "execution_count": 5,
      "outputs": [
        {
          "output_type": "execute_result",
          "data": {
            "text/plain": [
              "7500"
            ]
          },
          "metadata": {
            "tags": []
          },
          "execution_count": 5
        }
      ]
    },
    {
      "metadata": {
        "id": "IHY8alvywaU2",
        "colab_type": "code",
        "colab": {}
      },
      "cell_type": "code",
      "source": [
        "TEXT.build_vocab(train_data, max_size=25000)\n",
        "LABEL.build_vocab(train_data)"
      ],
      "execution_count": 0,
      "outputs": []
    },
    {
      "metadata": {
        "id": "bzy_BIwmxAqb",
        "colab_type": "code",
        "outputId": "e8a64da6-f4e5-49a1-8f46-ad012f8a903d",
        "colab": {
          "base_uri": "https://localhost:8080/",
          "height": 34
        }
      },
      "cell_type": "code",
      "source": [
        "len(TEXT.vocab)"
      ],
      "execution_count": 7,
      "outputs": [
        {
          "output_type": "execute_result",
          "data": {
            "text/plain": [
              "25002"
            ]
          },
          "metadata": {
            "tags": []
          },
          "execution_count": 7
        }
      ]
    },
    {
      "metadata": {
        "id": "ecIQc3FpxEeB",
        "colab_type": "code",
        "outputId": "5de44128-c2a4-481c-d706-a891ae30aa2c",
        "colab": {
          "base_uri": "https://localhost:8080/",
          "height": 353
        }
      },
      "cell_type": "code",
      "source": [
        "TEXT.vocab.freqs.most_common(20)"
      ],
      "execution_count": 8,
      "outputs": [
        {
          "output_type": "execute_result",
          "data": {
            "text/plain": [
              "[('the', 201739),\n",
              " (',', 191449),\n",
              " ('.', 165091),\n",
              " ('a', 109326),\n",
              " ('and', 109148),\n",
              " ('of', 100346),\n",
              " ('to', 93387),\n",
              " ('is', 76107),\n",
              " ('in', 61269),\n",
              " ('I', 54104),\n",
              " ('it', 53593),\n",
              " ('that', 49037),\n",
              " ('\"', 44341),\n",
              " (\"'s\", 43197),\n",
              " ('this', 42192),\n",
              " ('-', 36824),\n",
              " ('/><br', 35412),\n",
              " ('was', 34469),\n",
              " ('as', 30288),\n",
              " ('with', 29902)]"
            ]
          },
          "metadata": {
            "tags": []
          },
          "execution_count": 8
        }
      ]
    },
    {
      "metadata": {
        "id": "TDToFsDWxo7p",
        "colab_type": "code",
        "outputId": "c14039a7-c0fd-4897-8dcf-fc1826b899b8",
        "colab": {
          "base_uri": "https://localhost:8080/",
          "height": 34
        }
      },
      "cell_type": "code",
      "source": [
        "TEXT.vocab.itos[:10]"
      ],
      "execution_count": 9,
      "outputs": [
        {
          "output_type": "execute_result",
          "data": {
            "text/plain": [
              "['<unk>', '<pad>', 'the', ',', '.', 'a', 'and', 'of', 'to', 'is']"
            ]
          },
          "metadata": {
            "tags": []
          },
          "execution_count": 9
        }
      ]
    },
    {
      "metadata": {
        "id": "SoGSlJXpYbrR",
        "colab_type": "code",
        "outputId": "35d45a8a-1d0e-4b9a-98cb-d462fe808238",
        "colab": {
          "base_uri": "https://localhost:8080/",
          "height": 50
        }
      },
      "cell_type": "code",
      "source": [
        "LABEL.vocab.stoi"
      ],
      "execution_count": 10,
      "outputs": [
        {
          "output_type": "execute_result",
          "data": {
            "text/plain": [
              "defaultdict(<function torchtext.vocab._default_unk_index>,\n",
              "            {'neg': 1, 'pos': 0})"
            ]
          },
          "metadata": {
            "tags": []
          },
          "execution_count": 10
        }
      ]
    },
    {
      "metadata": {
        "id": "0vieDFVOYgys",
        "colab_type": "code",
        "outputId": "62718614-ebe0-4a85-f7ee-c935f28d3f56",
        "colab": {
          "base_uri": "https://localhost:8080/",
          "height": 34
        }
      },
      "cell_type": "code",
      "source": [
        "torch.cuda.is_available()"
      ],
      "execution_count": 11,
      "outputs": [
        {
          "output_type": "execute_result",
          "data": {
            "text/plain": [
              "True"
            ]
          },
          "metadata": {
            "tags": []
          },
          "execution_count": 11
        }
      ]
    },
    {
      "metadata": {
        "id": "c3Bww3SNZBTW",
        "colab_type": "code",
        "colab": {}
      },
      "cell_type": "code",
      "source": [
        "BATCH_SIZE = 64\n",
        "\n",
        "device = torch.device('cuda' if torch.cuda.is_available() else 'cpu')\n",
        "\n",
        "train_iter, test_iter, val_iter = data.BucketIterator.splits(\n",
        "  (train_data,test_data, val_data),\n",
        "  batch_size=BATCH_SIZE,\n",
        "  device=device\n",
        ")"
      ],
      "execution_count": 0,
      "outputs": []
    },
    {
      "metadata": {
        "id": "zafWqxEQZy26",
        "colab_type": "text"
      },
      "cell_type": "markdown",
      "source": [
        "#Building the Model"
      ]
    },
    {
      "metadata": {
        "id": "xMzrixyibEIO",
        "colab_type": "code",
        "colab": {}
      },
      "cell_type": "code",
      "source": [
        "import torch.nn as nn\n",
        "\n",
        "class RNN(nn.Module):\n",
        "  def __init__(self, input_dim, output_dim, hidden_dim, embeddings_dim):\n",
        "    super().__init__()\n",
        "    \n",
        "    self.embeddings = nn.Embedding(input_dim, embeddings_dim)\n",
        "    self.rnn = nn.RNN(embeddings_dim, hidden_dim)\n",
        "    self.fc = nn.Linear(hidden_dim, output_dim)\n",
        "    \n",
        "  def forward(self, x):\n",
        "    \n",
        "    #x = [sent len, batch size]\n",
        "    \n",
        "    embedded = self.embeddings(x)\n",
        "    \n",
        "    #embedded = [sent len, batch size, embedding dim]\n",
        "    \n",
        "    out, hidden = self.rnn(embedded)\n",
        "    \n",
        "    #output = [sent len, batch size, hid dim]\n",
        "    #hidden = [1, batch size, hid dim]\n",
        "    \n",
        "    assert torch.equal(out[-1,:,:], hidden.squeeze(0))\n",
        "    #print(hidden.squeeze(0).shape)\n",
        "    \n",
        "    return self.fc(hidden.squeeze(0))\n",
        "        \n",
        " "
      ],
      "execution_count": 0,
      "outputs": []
    },
    {
      "metadata": {
        "id": "HJxMghvSeOVr",
        "colab_type": "code",
        "colab": {
          "base_uri": "https://localhost:8080/",
          "height": 101
        },
        "outputId": "53d48877-58fc-4301-e1e7-20e4b9f45f22"
      },
      "cell_type": "code",
      "source": [
        "INPUT_DIM = len(TEXT.vocab)\n",
        "EMBEDDING_DIM = 100\n",
        "HIDDEN_DIM = 256\n",
        "OUTPUT_DIM = 1\n",
        "\n",
        "model = RNN(INPUT_DIM, OUTPUT_DIM, HIDDEN_DIM, EMBEDDING_DIM)\n",
        "print(model)"
      ],
      "execution_count": 36,
      "outputs": [
        {
          "output_type": "stream",
          "text": [
            "RNN(\n",
            "  (embeddings): Embedding(25002, 100)\n",
            "  (rnn): RNN(100, 256)\n",
            "  (fc): Linear(in_features=256, out_features=1, bias=True)\n",
            ")\n"
          ],
          "name": "stdout"
        }
      ]
    },
    {
      "metadata": {
        "id": "2JqfpF2Ie0gg",
        "colab_type": "text"
      },
      "cell_type": "markdown",
      "source": [
        "#Training the Model"
      ]
    },
    {
      "metadata": {
        "id": "NfA2BXnChsoT",
        "colab_type": "code",
        "colab": {}
      },
      "cell_type": "code",
      "source": [
        "import torch.optim as optim\n",
        "\n",
        "optimizer = optim.SGD(model.parameters(), lr=1e-3)"
      ],
      "execution_count": 0,
      "outputs": []
    },
    {
      "metadata": {
        "id": "cBaazHM0SlGq",
        "colab_type": "code",
        "colab": {}
      },
      "cell_type": "code",
      "source": [
        "criterion = nn.BCEWithLogitsLoss()"
      ],
      "execution_count": 0,
      "outputs": []
    },
    {
      "metadata": {
        "id": "ovAPn5SFStoD",
        "colab_type": "code",
        "colab": {}
      },
      "cell_type": "code",
      "source": [
        "model = model.to(device)\n",
        "criterion = criterion.to(device)"
      ],
      "execution_count": 0,
      "outputs": []
    },
    {
      "metadata": {
        "id": "VEkJx7wHSz11",
        "colab_type": "code",
        "colab": {}
      },
      "cell_type": "code",
      "source": [
        "def binary_accuracy(pred, y):\n",
        "  rounded_pred = torch.round(torch.sigmoid(pred))\n",
        "  correct = (rounded_pred == y).float()\n",
        "  acc = correct.sum()/len(correct)\n",
        "  return acc"
      ],
      "execution_count": 0,
      "outputs": []
    },
    {
      "metadata": {
        "id": "1BpY51GPUKSE",
        "colab_type": "code",
        "colab": {}
      },
      "cell_type": "code",
      "source": [
        "def train(model, optimizer, iterator, criterion):\n",
        "  \n",
        "  epoch_loss = 0.0\n",
        "  epoch_accu = 0.0\n",
        "  \n",
        "  model.train()\n",
        "  \n",
        "  for batch in iterator:\n",
        "    \n",
        "    optimizer.zero_grad()\n",
        "    predictions = model(batch.text).squeeze(1)\n",
        "    #print(predictions)\n",
        "    loss = criterion(predictions, batch.label)\n",
        "    acc = binary_accuracy(predictions, batch.label)\n",
        "    loss.backward()\n",
        "    optimizer.step()\n",
        "    \n",
        "    epoch_loss += loss.item()\n",
        "    epoch_accu += acc.item()\n",
        "  \n",
        "  return ((epoch_loss/len(iterator)), (epoch_accu/len(iterator)))"
      ],
      "execution_count": 0,
      "outputs": []
    },
    {
      "metadata": {
        "id": "VCh9QpLBUNxf",
        "colab_type": "code",
        "colab": {}
      },
      "cell_type": "code",
      "source": [
        "def evaluate(model, optimizer, iterator, criterion):\n",
        "  \n",
        "  epoch_loss = 0.0\n",
        "  epoch_acc = 0.0\n",
        "  \n",
        "  model.eval()\n",
        "  \n",
        "  for batch in iterator:\n",
        "    \n",
        "    predictions = model(batch.text).squeeze(1)\n",
        "    loss = criterion(predictions, batch.label)\n",
        "    acc = binary_accuracy(predictions, batch.label)\n",
        "    \n",
        "    epoch_loss += loss.item()\n",
        "    epoch_acc += acc.item()\n",
        "    \n",
        "    return (epoch_loss/len(iterator)) , (epoch_acc/len(iterator))"
      ],
      "execution_count": 0,
      "outputs": []
    },
    {
      "metadata": {
        "id": "oDvXQkHeaIBg",
        "colab_type": "code",
        "outputId": "10b216d5-8205-497b-c01b-aa88dd3d8efb",
        "colab": {
          "base_uri": "https://localhost:8080/",
          "height": 101
        }
      },
      "cell_type": "code",
      "source": [
        "epochs = 5\n",
        "\n",
        "for epoch in range(epochs):\n",
        "  train_loss, train_acc = train(model, optimizer, train_iter, criterion)\n",
        "  val_loss, val_acc = evaluate(model, optimizer, val_iter, criterion)\n",
        "  \n",
        "  print(f'| Epoch: {epoch+1:02} | Train Loss: {train_loss:.3f} | Train Acc: {train_acc*100:.2f}% | Val. Loss: {val_loss:.3f} | Val. Acc: {val_acc*100:.2f}% |')"
      ],
      "execution_count": 39,
      "outputs": [
        {
          "output_type": "stream",
          "text": [
            "| Epoch: 01 | Train Loss: 0.697 | Train Acc: 50.25% | Val. Loss: 0.006 | Val. Acc: 0.54% |\n",
            "| Epoch: 02 | Train Loss: 0.696 | Train Acc: 50.31% | Val. Loss: 0.006 | Val. Acc: 0.54% |\n",
            "| Epoch: 03 | Train Loss: 0.697 | Train Acc: 50.24% | Val. Loss: 0.006 | Val. Acc: 0.54% |\n",
            "| Epoch: 04 | Train Loss: 0.697 | Train Acc: 50.10% | Val. Loss: 0.006 | Val. Acc: 0.54% |\n",
            "| Epoch: 05 | Train Loss: 0.697 | Train Acc: 50.22% | Val. Loss: 0.006 | Val. Acc: 0.54% |\n"
          ],
          "name": "stdout"
        }
      ]
    },
    {
      "metadata": {
        "id": "aGI8VbjQbFah",
        "colab_type": "code",
        "colab": {
          "base_uri": "https://localhost:8080/",
          "height": 34
        },
        "outputId": "0275a790-eff9-4295-ea54-0ceed68bc127"
      },
      "cell_type": "code",
      "source": [
        "\n",
        "test_loss, test_acc = evaluate(model, optimizer, test_iter, criterion)\n",
        "\n",
        "print(f'| Test Loss: {test_loss:.3f} | Test Acc: {test_acc*100:.2f}% |')\n"
      ],
      "execution_count": 45,
      "outputs": [
        {
          "output_type": "stream",
          "text": [
            "| Test Loss: 0.002 | Test Acc: 0.14% |\n"
          ],
          "name": "stdout"
        }
      ]
    },
    {
      "metadata": {
        "id": "FufpDxJH2cXc",
        "colab_type": "code",
        "colab": {}
      },
      "cell_type": "code",
      "source": [
        ""
      ],
      "execution_count": 0,
      "outputs": []
    }
  ]
}